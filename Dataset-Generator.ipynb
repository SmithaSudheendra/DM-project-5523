{
 "cells": [
  {
   "cell_type": "markdown",
   "metadata": {},
   "source": [
    "## Handling States\n",
    "\n",
    "We first load in our data sets"
   ]
  },
  {
   "cell_type": "code",
   "execution_count": 2,
   "metadata": {},
   "outputs": [],
   "source": [
    "import numpy as np\n",
    "import pandas as pd\n",
    "import os\n",
    "import math\n",
    "\n",
    "dtype = {'country_region_code' : object,\n",
    "'country_region' : object,\n",
    "'sub_region_1' : object,\n",
    "'sub_region_2' : object,\n",
    "'metro_area' : object,\n",
    "'iso_3166_2_code' : object,\n",
    "'census_fips_code' : object,\n",
    "'date' : object,\n",
    "'retail_and_recreation_percent_change_from_baseline' : float,\n",
    "'grocery_and_pharmacy_percent_change_from_baseline' : float,\n",
    "'parks_percent_change_from_baseline\t' : float,\n",
    "'transit_stations_percent_change_from_baseline' : float,\n",
    "'workplaces_percent_change_from_baseline' : float,\n",
    "'residential_percent_change_from_baseline' :float,\n",
    "}\n",
    "\n",
    "mobFile = 'Global_Mobility_Report.csv'\n",
    "mobilityDF = pd.read_csv(mobFile, sep=',', error_bad_lines=False, index_col=False, dtype=dtype)\n",
    "# mobilityDF.head()\n",
    "\n",
    "policyFile = 'WHO_PHSM_Cleaned_V1_20_09_23.csv'\n",
    "policyDF = pd.read_csv(policyFile, sep=',', low_memory=False)\n",
    "# policyDF.head()\n",
    "\n",
    "casesFile = 'time_series_covid19_confirmed_global.csv'\n",
    "casesDF = pd.read_csv(casesFile, sep=',', low_memory=False)\n",
    "#casesDF.head()\n",
    "\n",
    "deathsFile = 'time_series_covid19_deaths_global.csv'\n",
    "deathsDF = pd.read_csv(deathsFile, sep=',', low_memory=False)\n",
    "# deathsDF.head()"
   ]
  },
  {
   "cell_type": "markdown",
   "metadata": {},
   "source": [
    "Then we begin by defining some useful variables in creating our dataset"
   ]
  },
  {
   "cell_type": "code",
   "execution_count": 3,
   "metadata": {},
   "outputs": [
    {
     "name": "stdout",
     "output_type": "stream",
     "text": [
      "Period is:  1/1/2020 - 11/9/2020\n"
     ]
    }
   ],
   "source": [
    "states = [\"Alabama\",\"Alaska\",\"Arizona\",\"Arkansas\",\"California\",\"Colorado\",\n",
    "  \"Connecticut\",\"Delaware\",\"Florida\",\"Georgia\",\"Hawaii\",\"Idaho\",\"Illinois\",\n",
    "  \"Indiana\",\"Iowa\",\"Kansas\",\"Kentucky\",\"Louisiana\",\"Maine\",\"Maryland\",\n",
    "  \"Massachusetts\",\"Michigan\",\"Minnesota\",\"Mississippi\",\"Missouri\",\"Montana\",\n",
    "  \"Nebraska\",\"Nevada\",\"New Hampshire\",\"New Jersey\",\"New Mexico\",\"New York\",\n",
    "  \"North Carolina\",\"North Dakota\",\"Ohio\",\"Oklahoma\",\"Oregon\",\"Pennsylvania\",\n",
    "  \"Rhode Island\",\"South Carolina\",\"South Dakota\",\"Tennessee\",\"Texas\",\"Utah\",\n",
    "  \"Vermont\",\"Virginia\",\"Washington\",\"West Virginia\",\"Wisconsin\",\"Wyoming\"]\n",
    "\n",
    "memo = {\n",
    "    'new': 1,\n",
    "    'extension': 1,\n",
    "    'modification': 0,\n",
    "    'finish': -1, \n",
    "    'phase-out': -1, \n",
    "}\n",
    "\n",
    "dates = ['1/1/2020','1/2/2020','1/3/2020','1/4/2020','1/5/2020','1/6/2020','1/7/2020'\n",
    "         ,'1/8/2020','1/9/2020','1/10/2020','1/11/2020',\n",
    "         '1/12/2020','1/13/2020','1/14/2020','1/15/2020','1/16/2020',\n",
    "         '1/17/2020','1/18/2020','1/19/2020','1/20/2020','1/21/2020']\n",
    "dates += casesDF.columns.tolist()[4:]\n",
    "print('Period is: ', dates[0], '-',dates[-1])"
   ]
  },
  {
   "cell_type": "markdown",
   "metadata": {},
   "source": [
    "### Statewide policy Data\n",
    "\n",
    "For each of the states, we want to create a memo as we did last ime"
   ]
  },
  {
   "cell_type": "code",
   "execution_count": 4,
   "metadata": {},
   "outputs": [],
   "source": [
    "US_Policy = policyDF[ policyDF['country_territory_area'] == 'United States Of America']\n",
    "whoCodes = whoCodes = sorted(list(policyDF.sort_values(by='who_code').who_code.unique()))\n",
    "\n",
    "stateData = {}\n",
    "usData = {}\n",
    "\n",
    "for state in states:\n",
    "    stateData[state] = {}\n",
    "    for date in dates:\n",
    "        stateData[state][date] = {}\n",
    "        usData[date] = {}\n",
    "        for code in whoCodes:\n",
    "            stateData[state][date][code] = 0\n",
    "            usData[date][code] = 0        "
   ]
  },
  {
   "cell_type": "markdown",
   "metadata": {},
   "source": [
    "We increment the national policy and the us policies on the date that they are added to the memo. "
   ]
  },
  {
   "cell_type": "code",
   "execution_count": 5,
   "metadata": {},
   "outputs": [],
   "source": [
    "for policy in US_Policy.to_dict(orient='records'):\n",
    "    (country, who_code, date_start, date_end, admin_level, measure_stage) = (policy['country_territory_area'], policy['who_code'],policy['date_start'], policy['date_end'], policy['admin_level'], policy['measure_stage'])\n",
    "    who_measure = policy['who_measure']\n",
    "    area_covered = policy['area_covered']\n",
    "    \n",
    "    if admin_level == 'national':\n",
    "        if isinstance(date_start, str) and isinstance(who_code, str) and measure_stage != 'modification' and usData[date_start][who_code] != 1:\n",
    "            usData[date_start][who_code] = memo[measure_stage]\n",
    "    if admin_level == 'state' and area_covered in states:\n",
    "        if isinstance(date_start, str) and isinstance(who_code, str) and measure_stage != 'modification' and stateData[area_covered][date_start][who_code] != 1:\n",
    "            stateData[area_covered][date_start][who_code] = memo[measure_stage]\n"
   ]
  },
  {
   "cell_type": "markdown",
   "metadata": {},
   "source": [
    "We then normalize our values by taking a running count of whether the policy is active or not. 1's Denote the addtion of a policy, 0's denote no action, and -1's denote removal of a policy"
   ]
  },
  {
   "cell_type": "code",
   "execution_count": 6,
   "metadata": {},
   "outputs": [],
   "source": [
    "for state in states:\n",
    "    for i in range(1, len(dates)):\n",
    "        for key in whoCodes:\n",
    "            if stateData[state][dates[i]][key] == 0:\n",
    "                stateData[state][dates[i]][key] = stateData[state][dates[i-1]][key]\n",
    "            elif stateData[state][dates[i]][key] == 1:\n",
    "                stateData[state][dates[i]][key] = 1\n",
    "            elif stateData[state][dates[i]][key] == -1:\n",
    "                stateData[state][dates[i]][key] = 0 \n",
    "                \n",
    "for i in range(1, len(dates)):\n",
    "    for key in whoCodes:\n",
    "        if usData[dates[i]][key] == 0:\n",
    "            usData[dates[i]][key] = usData[dates[i-1]][key]\n",
    "        if usData[dates[i]][key] == 1:\n",
    "            usData[dates[i]][key] = 1\n",
    "        if usData[dates[i]][key] == -1:\n",
    "            usData[dates[i]][key] = 0"
   ]
  },
  {
   "cell_type": "code",
   "execution_count": 7,
   "metadata": {},
   "outputs": [],
   "source": [
    "for state in states:\n",
    "    for i in range(1, len(dates)):\n",
    "        for key in whoCodes:\n",
    "            if usData[dates[i]][key] == 1:\n",
    "                stateData[state][dates[i]][key] = 1"
   ]
  },
  {
   "cell_type": "markdown",
   "metadata": {},
   "source": [
    "### Statewide case numbers\n",
    "\n",
    "Case numbers are loaded in from our cases time series data. For each state we get cumulative cases on each day"
   ]
  },
  {
   "cell_type": "code",
   "execution_count": 8,
   "metadata": {},
   "outputs": [],
   "source": [
    "filename = './COVID-19/csse_covid_19_data/csse_covid_19_time_series/time_series_covid19_confirmed_US.csv'\n",
    "casesDF = pd.read_csv(filename, sep=',',error_bad_lines=False, index_col=False, dtype=dtype)\n",
    "\n",
    "dates = casesDF.columns.tolist()[11:]\n",
    "    \n",
    "for state in states:\n",
    "    for date in dates:\n",
    "        stateData[state][date]['totalCases'] = 0\n",
    "        \n",
    "\n",
    "for index, row in casesDF.iterrows():\n",
    "    state = row['Province_State']\n",
    "    if state not in states:\n",
    "        continue\n",
    "    for date in dates:\n",
    "        stateData[state][date]['totalCases'] += row[date]\n",
    "        "
   ]
  },
  {
   "cell_type": "markdown",
   "metadata": {},
   "source": [
    "Here we calculate the active cases on each date. From these active case numbers, we get a growth rate, as well as a change in the growth rate. "
   ]
  },
  {
   "cell_type": "code",
   "execution_count": 9,
   "metadata": {},
   "outputs": [],
   "source": [
    "offset = 5 #offset for number of days we use for covid symptoms to show up \n",
    "diff = 5 # Diff for number of dates in which we use to calculate growth\n",
    "symLen = 14 # length of symptoms\n",
    "for state in states:\n",
    "    for i in range(symLen + offset, len(dates) - offset - diff):\n",
    "        activeCasesOld = stateData[state][dates[i-diff+offset]]['totalCases'] - stateData[state][dates[i-diff+offset - symLen]]['totalCases']\n",
    "        activeCases = stateData[state][dates[i+offset]]['totalCases'] - stateData[state][dates[i+offset - symLen]]['totalCases']\n",
    "        activeCasesNext = stateData[state][dates[i+diff+offset]]['totalCases'] - stateData[state][dates[i+diff+offset - symLen]]['totalCases']\n",
    "\n",
    "        if activeCasesOld < 100:\n",
    "            continue\n",
    "        \n",
    "        oldGrowth = (activeCases / activeCasesOld) ** (1 / diff) if activeCasesOld > 0 else -1\n",
    "        growth = (activeCasesNext / activeCases) ** (1/diff) if activeCases > 0 else -1\n",
    "        \n",
    "        stateData[state][dates[i]]['growth'] = growth\n",
    "        stateData[state][dates[i]]['oldGrowth'] = oldGrowth\n",
    "        stateData[state][dates[i]]['flattening'] = 1 if math.log(growth / oldGrowth, 2) < 0 else 0\n",
    "        stateData[state][dates[i]]['activeCases'] = activeCases\n",
    "        \n"
   ]
  },
  {
   "cell_type": "markdown",
   "metadata": {},
   "source": [
    "### Statewide mobility numbers\n",
    "\n",
    "Google mobility data was loaded in. m2 m4 m5 were deemed essentail mobility, while m1 m3 and m6 were deemed non-essential mobility. "
   ]
  },
  {
   "cell_type": "code",
   "execution_count": 10,
   "metadata": {
    "scrolled": true
   },
   "outputs": [
    {
     "name": "stdout",
     "output_type": "stream",
     "text": [
      "1000\n",
      "2000\n",
      "3000\n",
      "4000\n",
      "5000\n",
      "6000\n",
      "7000\n",
      "8000\n",
      "9000\n",
      "10000\n",
      "11000\n",
      "12000\n",
      "13000\n"
     ]
    }
   ],
   "source": [
    "usMobilityDF = pd.read_csv('./Region_Mobility_Report_CSVs/' + '2020_US_Region_Mobility_Report.csv', sep=',', error_bad_lines=False, index_col=False, dtype=dtype)\n",
    "\n",
    "def revDay(filename):\n",
    "    # 04-12-2020\n",
    "    if filename[-4:] == \".csv\":\n",
    "        filename = filename[:-4]\n",
    "    (year, month, day) = filename.split('-')\n",
    "    if(month[0] == '0'):\n",
    "        month = month[1:]\n",
    "    if(day[0] == '0'):\n",
    "        day = day[1:]\n",
    "    return '/'.join( [month, day, year] )    \n",
    "\n",
    "stateDF = usMobilityDF[ pd.isnull(usMobilityDF['sub_region_2'])]\n",
    "i = 0\n",
    "\n",
    "for index, row in stateDF.iterrows():\n",
    "    country = row['country_region']\n",
    "    state = row['sub_region_1']\n",
    "    date = revDay(row['date'])\n",
    "\n",
    "    mob = {\n",
    "        'm1': row['retail_and_recreation_percent_change_from_baseline'],\n",
    "        'm2': row['grocery_and_pharmacy_percent_change_from_baseline'],\n",
    "        'm3': row['parks_percent_change_from_baseline'],\n",
    "        'm4': row['transit_stations_percent_change_from_baseline'],\n",
    "        'm5': row['workplaces_percent_change_from_baseline'],\n",
    "        'm6': row['residential_percent_change_from_baseline'],\n",
    "    }\n",
    "    if country == \"United States\" and not isinstance(state, str):\n",
    "        if date not in usData: \n",
    "            continue\n",
    "        usData[date]['Essential'] = 1.0 + ((mob['m2'] + mob['m4'] + mob['m5']) / 300 )\n",
    "        usData[date]['nonEssential'] = 1.0 + ( (mob['m1'] + mob['m6']) / 300 )\n",
    "    if country == \"United States\" and state in states:\n",
    "        if date not in stateData[state]:\n",
    "            continue\n",
    "        stateData[state][date]['Essential'] = 1.0 + ((mob['m2'] + mob['m4'] + mob['m5']) / 300 )\n",
    "        stateData[state][date]['nonEssential'] = 1.0 + ( (mob['m1'] + mob['m6'] + mob['m3']) / 300 )\n",
    "        #for k,v in mob.items():\n",
    "        #   stateData[state][date][k] = 1.0 + v / 100\n",
    "            \n",
    "    \n",
    "    i += 1\n",
    "    if i % 1000 == 0:\n",
    "        print(i)\n",
    "    "
   ]
  },
  {
   "cell_type": "markdown",
   "metadata": {},
   "source": [
    "This was then written to our file."
   ]
  },
  {
   "cell_type": "code",
   "execution_count": 11,
   "metadata": {},
   "outputs": [],
   "source": [
    "headers = 'state,date,' + ','.join(whoCodes) + ',totalCases,growth,oldGrowth,flattening,activeCases,essential,nonessential\\n' \n",
    "\n",
    "outFile = open('US-Data-Final.csv', 'w')\n",
    "outFile.write(headers)\n",
    "\n",
    "def toStr(x):\n",
    "    return str(x)\n",
    "\n",
    "for (state, obj1) in stateData.items():\n",
    "    outMemo = {'state': state}\n",
    "    for (date, obj2)  in obj1.items():\n",
    "        outMemo['date'] = date\n",
    "        if len(obj2) != 52:\n",
    "            continue\n",
    "        for (code, val) in obj2.items():\n",
    "            outMemo[code] = val\n",
    "        vals = ','.join( map(toStr ,list(outMemo.values())))\n",
    "        vals += ',\\n'\n",
    "        outFile.write(vals)\n",
    "\n",
    "outFile.close()"
   ]
  },
  {
   "cell_type": "code",
   "execution_count": null,
   "metadata": {},
   "outputs": [],
   "source": []
  }
 ],
 "metadata": {
  "kernelspec": {
   "display_name": "Python 3",
   "language": "python",
   "name": "python3"
  },
  "language_info": {
   "codemirror_mode": {
    "name": "ipython",
    "version": 3
   },
   "file_extension": ".py",
   "mimetype": "text/x-python",
   "name": "python",
   "nbconvert_exporter": "python",
   "pygments_lexer": "ipython3",
   "version": "3.8.3"
  }
 },
 "nbformat": 4,
 "nbformat_minor": 4
}
